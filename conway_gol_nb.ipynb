{
 "nbformat": 4,
 "nbformat_minor": 0,
 "metadata": {
  "colab": {
   "name": "Conway_GOL_Demo.ipynb",
   "provenance": []
  },
  "kernelspec": {
   "name": "python3",
   "display_name": "Python 3"
  },
  "language_info": {
   "name": "python"
  }
 },
 "cells": [
  {
   "cell_type": "markdown",
   "metadata": {
    "id": "intro_markdown_cell"
   },
   "source": [
    "# 🧬 Conway's Game of Life Simulator\n",
    "\n",
    "This notebook allows you to run the Game of Life simulator from the [conway-gol](https://github.com/tanaysd/conway-gol) repository directly in Google Colab.\n",
    "\n",
    "We will clone the repository, explore the example inputs, and run the simulation using `gol.py`."
   ]
  },
  {
   "cell_type": "code",
   "execution_count": null,
   "metadata": {
    "id": "clone_repo_cell"
   },
   "outputs": [],
   "source": [
    "!git clone https://github.com/tanaysd/conway-gol.git\n",
    "%cd conway-gol\n",
    "!ls -F"
   ]
  },
  {
   "cell_type": "markdown",
   "source": [
    "### Explore Example Inputs"
   ],
   "metadata": {
    "id": "explore_inputs_markdown_cell"
   }
  },
  {
   "cell_type": "code",
   "execution_count": null,
   "metadata": {
    "id": "list_examples_cell"
   },
   "outputs": [],
   "source": [
    "print(\"--- Available examples ---\")\n",
    "!ls examples/*.life\n",
    "\n",
    "print(\"\\n--- Contents of glider.life ---\")\n",
    "!cat examples/glider.life"
   ]
  },
  {
   "cell_type": "markdown",
   "source": [
    "### Run the Simulation\n",
    "\n",
    "The `gol.py` script can now accept a file path directly as an argument. This is often clearer than using input redirection (`<`)."
   ],
   "metadata": {
    "id": "run_simulation_markdown_cell"
   }
  },
  {
   "cell_type": "code",
   "execution_count": null,
   "metadata": {
    "id": "run_default_cell"
   },
   "outputs": [],
   "source": [
    "# Run the simulation by passing the file path as an argument.\n",
    "!python3 gol.py examples/glider.life --steps 10"
   ]
  },
  {
   "cell_type": "markdown",
   "source": [
    "### Run with ASCII Visualization\n",
    "\n",
    "We can combine the file path argument with other flags like `--ascii` and `--steps`."
   ],
   "metadata": {
    "id": "run_ascii_markdown_cell"
   }
  },
  {
   "cell_type": "code",
   "execution_count": null,
   "metadata": {
    "id": "run_ascii_steps_cell"
   },
   "outputs": [],
   "source": [
    "# Run the simulation with ASCII output for 4 steps\n",
    "!python3 gol.py examples/glider.life --ascii --steps 4"
   ]
  },
  {
   "cell_type": "markdown",
   "source": [
    "### Backwards Compatibility (Optional)\n",
    "\n",
    "The script is still backwards-compatible and works with the original standard input redirection."
   ],
   "metadata": {
    "id": "backwards_compat_markdown_cell"
   }
  },
  {
   "cell_type": "code",
   "execution_count": null,
   "metadata": {
    "id": "run_stdin_cell"
   },
   "outputs": [],
   "source": [
    "!python3 gol.py --steps 4 < examples/glider.life"
   ]
  }
 ]
}


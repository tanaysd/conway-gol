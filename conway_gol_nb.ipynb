{
  "nbformat": 4,
  "nbformat_minor": 0,
  "metadata": {
    "colab": {
      "name": "Conway_GOL_Demo.ipynb",
      "provenance": []
    },
    "kernelspec": {
      "name": "python3",
      "display_name": "Python 3"
    },
    "language_info": {
      "name": "python"
    }
  },
  "cells": [
    {
      "cell_type": "markdown",
      "metadata": {
        "id": "intro_markdown_cell"
      },
      "source": [
        "# 🧬 Conway's Game of Life Simulator\n",
        "\n",
        "This notebook allows you to run the Game of Life simulator from the [conway-gol](https://github.com/tanaysd/conway-gol) repository directly in Google Colab.\n",
        "\n",
        "We will clone the repository, explore the example inputs, and run the simulation using `gol.py`."
      ]
    },
    {
      "cell_type": "code",
      "execution_count": 1,
      "metadata": {
        "id": "clone_repo_cell",
        "outputId": "8a0d69c1-70b1-4f1e-96f9-a87504b498b1",
        "colab": {
          "base_uri": "https://localhost:8080/"
        }
      },
      "outputs": [
        {
          "output_type": "stream",
          "name": "stdout",
          "text": [
            "Cloning into 'conway-gol'...\n",
            "remote: Enumerating objects: 195, done.\u001b[K\n",
            "remote: Counting objects: 100% (96/96), done.\u001b[K\n",
            "remote: Compressing objects: 100% (47/47), done.\u001b[K\n",
            "remote: Total 195 (delta 66), reused 65 (delta 49), pack-reused 99 (from 2)\u001b[K\n",
            "Receiving objects: 100% (195/195), 71.51 KiB | 11.92 MiB/s, done.\n",
            "Resolving deltas: 100% (91/91), done.\n",
            "/content/conway-gol\n",
            "AGENTS.md\t   conway_gol_nb.ipynb\texamples/  LICENSE    REVIEW_GUIDE.md\n",
            "CODE_STRUCTURE.md  ELI5.md\t\tgol.py\t   README.md  tests/\n"
          ]
        }
      ],
      "source": [
        "!git clone https://github.com/tanaysd/conway-gol.git\n",
        "%cd conway-gol\n",
        "!ls -F"
      ]
    },
    {
      "cell_type": "markdown",
      "source": [
        "### Explore Example Inputs"
      ],
      "metadata": {
        "id": "explore_inputs_markdown_cell"
      }
    },
    {
      "cell_type": "code",
      "execution_count": 2,
      "metadata": {
        "id": "list_examples_cell",
        "outputId": "e4b0fe72-4230-483d-bf6b-c10f06815582",
        "colab": {
          "base_uri": "https://localhost:8080/"
        }
      },
      "outputs": [
        {
          "output_type": "stream",
          "name": "stdout",
          "text": [
            "--- Available examples ---\n",
            "examples/blinker.life  examples/diehard.life\t      examples/glider.life\n",
            "examples/block.life    examples/glider_after_10.life\n",
            "\n",
            "--- Contents of glider.life ---\n",
            "#Life 1.06\n",
            "0 1\n",
            "1 2\n",
            "2 0\n",
            "2 1\n",
            "2 2\n"
          ]
        }
      ],
      "source": [
        "print(\"--- Available examples ---\")\n",
        "!ls examples/*.life\n",
        "\n",
        "print(\"\\n--- Contents of glider.life ---\")\n",
        "!cat examples/glider.life"
      ]
    },
    {
      "cell_type": "markdown",
      "source": [
        "### Run the Simulation\n",
        "\n",
        "The `gol.py` script can now accept a file path directly as an argument. This is often clearer than using input redirection (`<`)."
      ],
      "metadata": {
        "id": "run_simulation_markdown_cell"
      }
    },
    {
      "cell_type": "code",
      "execution_count": 3,
      "metadata": {
        "id": "run_default_cell",
        "outputId": "5f1b6ef4-61df-4b23-9f18-43a2ce061c19",
        "colab": {
          "base_uri": "https://localhost:8080/"
        }
      },
      "outputs": [
        {
          "output_type": "stream",
          "name": "stdout",
          "text": [
            "#Life 1.06\n",
            "3 4\n",
            "4 2\n",
            "4 4\n",
            "5 3\n",
            "5 4\n"
          ]
        }
      ],
      "source": [
        "# Run the simulation by passing the file path as an argument.\n",
        "!python3 gol.py examples/glider.life --steps 10"
      ]
    },
    {
      "cell_type": "markdown",
      "source": [
        "### Run with ASCII Visualization\n",
        "\n",
        "We can combine the file path argument with other flags like `--ascii` and `--steps`."
      ],
      "metadata": {
        "id": "run_ascii_markdown_cell"
      }
    },
    {
      "cell_type": "code",
      "execution_count": 4,
      "metadata": {
        "id": "run_ascii_steps_cell",
        "outputId": "68472c33-f73c-42bf-fca3-d55e67f0dfa8",
        "colab": {
          "base_uri": "https://localhost:8080/"
        }
      },
      "outputs": [
        {
          "output_type": "stream",
          "name": "stdout",
          "text": [
            "\n",
            "🧬 Generation 0\n",
            "      -1  0  1  2  3\n",
            "  3 | ·  ·  ·  ·  · \n",
            "  2 | ·  ·  @  @  · \n",
            "  1 | ·  @  ·  @  · \n",
            "  0 | ·  ·  ·  @  · \n",
            " -1 | ·  ·  ·  ·  · \n",
            "\n",
            "\n",
            "🧬 Generation 1\n",
            "       0  1  2  3  4\n",
            "  3 | ·  ·  ·  ·  · \n",
            "  2 | ·  @  @  ·  · \n",
            "  1 | ·  ·  @  @  · \n",
            "  0 | ·  @  ·  ·  · \n",
            " -1 | ·  ·  ·  ·  · \n",
            "\n",
            "\n",
            "🧬 Generation 2\n",
            "       0  1  2  3  4\n",
            "  3 | ·  ·  ·  ·  · \n",
            "  2 | ·  @  @  @  · \n",
            "  1 | ·  ·  ·  @  · \n",
            "  0 | ·  ·  @  ·  · \n",
            " -1 | ·  ·  ·  ·  · \n",
            "\n",
            "\n",
            "🧬 Generation 3\n",
            "       0  1  2  3  4\n",
            "  4 | ·  ·  ·  ·  · \n",
            "  3 | ·  ·  @  ·  · \n",
            "  2 | ·  ·  @  @  · \n",
            "  1 | ·  @  ·  @  · \n",
            "  0 | ·  ·  ·  ·  · \n",
            "\n",
            "\n",
            "🧬 Final Generation (4)\n",
            "       0  1  2  3  4\n",
            "  4 | ·  ·  ·  ·  · \n",
            "  3 | ·  ·  @  @  · \n",
            "  2 | ·  @  ·  @  · \n",
            "  1 | ·  ·  ·  @  · \n",
            "  0 | ·  ·  ·  ·  · \n",
            "\n",
            "#Life 1.06\n",
            "1 2\n",
            "2 3\n",
            "3 1\n",
            "3 2\n",
            "3 3\n"
          ]
        }
      ],
      "source": [
        "# Run the simulation with ASCII output for 4 steps\n",
        "!python3 gol.py examples/glider.life --ascii --steps 10"
      ]
    },
    {
      "cell_type": "markdown",
      "source": [
        "### Backwards Compatibility (Optional)\n",
        "\n",
        "The script is still backwards-compatible and works with the original standard input redirection."
      ],
      "metadata": {
        "id": "backwards_compat_markdown_cell"
      }
    },
    {
      "cell_type": "code",
      "execution_count": null,
      "metadata": {
        "id": "run_stdin_cell"
      },
      "outputs": [],
      "source": [
        "!python3 gol.py --steps 4 < examples/glider.life"
      ]
    }
  ]
}